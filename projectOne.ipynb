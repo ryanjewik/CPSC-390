{
 "cells": [
  {
   "cell_type": "code",
   "execution_count": 3,
   "id": "6665cd11",
   "metadata": {},
   "outputs": [],
   "source": [
    "from search import *\n",
    "\n",
    "#from notebook import psource, heatmap, gaussian_kernel, show_map, final_path_colors, display_visual, plot_NQueens\n",
    "\n",
    "# Needed to hide warnings in the matplotlib sections\n",
    "import warnings\n",
    "warnings.filterwarnings(\"ignore\")"
   ]
  },
  {
   "cell_type": "code",
   "execution_count": 4,
   "id": "a4ec60f8",
   "metadata": {},
   "outputs": [],
   "source": [
    "%matplotlib inline\n",
    "import networkx as nx\n",
    "import matplotlib.pyplot as plt\n",
    "from matplotlib import lines\n",
    "\n",
    "from ipywidgets import interact\n",
    "import ipywidgets as widgets\n",
    "from IPython.display import display\n",
    "import time"
   ]
  },
  {
   "cell_type": "code",
   "execution_count": 5,
   "id": "ef262fd7",
   "metadata": {},
   "outputs": [],
   "source": [
    "bubble_map = UndirectedGraph(dict(\n",
    "    S=dict(A=3, B=1, C=8),\n",
    "    A=dict(D=3, E=7, G=15),\n",
    "    B=dict(G=20),\n",
    "    C=dict(G=5)))"
   ]
  },
  {
   "cell_type": "code",
   "execution_count": null,
   "id": "bb5afdfc",
   "metadata": {},
   "outputs": [],
   "source": []
  }
 ],
 "metadata": {
  "kernelspec": {
   "display_name": "Python 3 (ipykernel)",
   "language": "python",
   "name": "python3"
  },
  "language_info": {
   "codemirror_mode": {
    "name": "ipython",
    "version": 3
   },
   "file_extension": ".py",
   "mimetype": "text/x-python",
   "name": "python",
   "nbconvert_exporter": "python",
   "pygments_lexer": "ipython3",
   "version": "3.10.9"
  }
 },
 "nbformat": 4,
 "nbformat_minor": 5
}
